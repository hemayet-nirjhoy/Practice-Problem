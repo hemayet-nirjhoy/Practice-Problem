{
 "cells": [
  {
   "cell_type": "markdown",
   "id": "subsequent-fabric",
   "metadata": {},
   "source": [
    "## 242. Valid Anagram\n",
    "\n",
    "Given two strings s and t, return true if t is an anagram of s, and false otherwise."
   ]
  },
  {
   "cell_type": "code",
   "execution_count": 2,
   "id": "northern-output",
   "metadata": {},
   "outputs": [],
   "source": [
    "import collections"
   ]
  },
  {
   "cell_type": "code",
   "execution_count": 8,
   "id": "introductory-festival",
   "metadata": {},
   "outputs": [],
   "source": [
    "def isAnagram(s: str, t: str) -> bool:\n",
    "        len_s = len(s)\n",
    "        len_t = len(t)\n",
    "        if(len_s!=len_t):return False\n",
    "        s_hash = {}\n",
    "        for i in range(len_s):\n",
    "            if s[i] in s_hash:\n",
    "                s_hash[s[i]]+=1\n",
    "            else:\n",
    "                s_hash[s[i]]=1\n",
    "        for j in range(len_t):\n",
    "            if t[j] in s_hash:\n",
    "                s_hash[t[j]]-=1\n",
    "            else:\n",
    "                return False\n",
    "        for value in s_hash.values():\n",
    "            if(value>0):return False\n",
    "        return True"
   ]
  },
  {
   "cell_type": "markdown",
   "id": "mexican-earthquake",
   "metadata": {},
   "source": [
    "## Code in pythonic way \n",
    "Collections container data type is used instead of python built in dictionary. The advantages are, if the key is not available it will not raise kayError: as the key is not available in builtin dictionary. However, the collection container dictionary will create those key and assign the value if it is not available. "
   ]
  },
  {
   "cell_type": "markdown",
   "id": "collective-appointment",
   "metadata": {},
   "source": [
    "### Python builtin dictionary"
   ]
  },
  {
   "cell_type": "code",
   "execution_count": 16,
   "id": "psychological-greek",
   "metadata": {},
   "outputs": [
    {
     "ename": "KeyError",
     "evalue": "'a'",
     "output_type": "error",
     "traceback": [
      "\u001b[0;31m---------------------------------------------------------------------------\u001b[0m",
      "\u001b[0;31mKeyError\u001b[0m                                  Traceback (most recent call last)",
      "\u001b[0;32m<ipython-input-16-d2a8fccd9880>\u001b[0m in \u001b[0;36m<module>\u001b[0;34m\u001b[0m\n\u001b[1;32m      1\u001b[0m \u001b[0mtemp\u001b[0m \u001b[0;34m=\u001b[0m \u001b[0;34m{\u001b[0m\u001b[0;34m}\u001b[0m\u001b[0;34m\u001b[0m\u001b[0;34m\u001b[0m\u001b[0m\n\u001b[0;32m----> 2\u001b[0;31m \u001b[0mtemp\u001b[0m\u001b[0;34m[\u001b[0m\u001b[0;34m'a'\u001b[0m\u001b[0;34m]\u001b[0m\u001b[0;34m+=\u001b[0m\u001b[0;36m1\u001b[0m\u001b[0;34m\u001b[0m\u001b[0;34m\u001b[0m\u001b[0m\n\u001b[0m",
      "\u001b[0;31mKeyError\u001b[0m: 'a'"
     ]
    }
   ],
   "source": [
    "temp = {}\n",
    "temp['a']+=1"
   ]
  },
  {
   "cell_type": "markdown",
   "id": "plastic-bargain",
   "metadata": {},
   "source": [
    "### Python collections container dictionary"
   ]
  },
  {
   "cell_type": "code",
   "execution_count": 20,
   "id": "statutory-naples",
   "metadata": {},
   "outputs": [
    {
     "data": {
      "text/plain": [
       "defaultdict(int, {'a': 1})"
      ]
     },
     "execution_count": 20,
     "metadata": {},
     "output_type": "execute_result"
    }
   ],
   "source": [
    "temp_c = collections.defaultdict(int)\n",
    "temp_c['a']+= 1\n",
    "temp_c"
   ]
  },
  {
   "cell_type": "code",
   "execution_count": 30,
   "id": "white-smile",
   "metadata": {},
   "outputs": [],
   "source": [
    "def is_anagram(s:str, t:str)->bool:\n",
    "    if(len(s)!=len(s)):return False\n",
    "    s_hash = collections.defaultdict(int) # creates an empty collections container dictionary\n",
    "    for i in s: s_hash[i]+=1\n",
    "    for j in t: s_hash[j]-=1\n",
    "    print(s_hash)\n",
    "    return all(value==0 for value in s_hash.values())"
   ]
  },
  {
   "cell_type": "code",
   "execution_count": 31,
   "id": "final-rebel",
   "metadata": {},
   "outputs": [],
   "source": [
    "s = \"aacc\"\n",
    "t = \"ccac\"\n",
    "\n",
    "s = \"anagram\"\n",
    "t = \"nagaram\""
   ]
  },
  {
   "cell_type": "code",
   "execution_count": 32,
   "id": "laden-aquarium",
   "metadata": {},
   "outputs": [
    {
     "name": "stdout",
     "output_type": "stream",
     "text": [
      "defaultdict(<class 'int'>, {'a': 0, 'n': 0, 'g': 0, 'r': 0, 'm': 0})\n"
     ]
    },
    {
     "data": {
      "text/plain": [
       "True"
      ]
     },
     "execution_count": 32,
     "metadata": {},
     "output_type": "execute_result"
    }
   ],
   "source": [
    "is_anagram(s,t)"
   ]
  },
  {
   "cell_type": "code",
   "execution_count": null,
   "id": "micro-barrier",
   "metadata": {},
   "outputs": [],
   "source": []
  }
 ],
 "metadata": {
  "kernelspec": {
   "display_name": "Python 3",
   "language": "python",
   "name": "python3"
  },
  "language_info": {
   "codemirror_mode": {
    "name": "ipython",
    "version": 3
   },
   "file_extension": ".py",
   "mimetype": "text/x-python",
   "name": "python",
   "nbconvert_exporter": "python",
   "pygments_lexer": "ipython3",
   "version": "3.8.10"
  }
 },
 "nbformat": 4,
 "nbformat_minor": 5
}
