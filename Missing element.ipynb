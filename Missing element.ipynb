{
 "cells": [
  {
   "cell_type": "code",
   "execution_count": 3,
   "id": "arabic-taiwan",
   "metadata": {},
   "outputs": [],
   "source": [
    "import numpy as np\n",
    "import pandas as pd\n",
    "import time, os, json, requests"
   ]
  },
  {
   "cell_type": "markdown",
   "id": "regional-hudson",
   "metadata": {},
   "source": [
    "## Missing Element"
   ]
  },
  {
   "cell_type": "code",
   "execution_count": 4,
   "id": "innovative-skiing",
   "metadata": {},
   "outputs": [],
   "source": [
    "N = 5\n",
    "A = [1,2,3,5]"
   ]
  },
  {
   "cell_type": "markdown",
   "id": "roman-hydrogen",
   "metadata": {},
   "source": [
    "### Taking Extra Array"
   ]
  },
  {
   "cell_type": "code",
   "execution_count": 28,
   "id": "human-struggle",
   "metadata": {},
   "outputs": [],
   "source": [
    "def missingElement(A,n):\n",
    "    temp = []\n",
    "    for i in range(0, n):\n",
    "        temp.append(0)\n",
    "#         print(temp)\n",
    "    for i in range(0, n-1):\n",
    "        temp[A[i]-1]=1\n",
    "#         print(A[i])\n",
    "#     print(temp)\n",
    "    for i in range(0,n):\n",
    "        if temp[i]==0:return i+1"
   ]
  },
  {
   "cell_type": "code",
   "execution_count": 29,
   "id": "differential-captain",
   "metadata": {},
   "outputs": [
    {
     "data": {
      "text/plain": [
       "4"
      ]
     },
     "execution_count": 29,
     "metadata": {},
     "output_type": "execute_result"
    }
   ],
   "source": [
    "missingElement(A,N)"
   ]
  },
  {
   "cell_type": "markdown",
   "id": "innocent-minister",
   "metadata": {},
   "source": [
    "### Summation Formula\n",
    "sum of first n natural number as sumtotal = n*(n+1)/2"
   ]
  },
  {
   "cell_type": "code",
   "execution_count": 46,
   "id": "minute-allen",
   "metadata": {},
   "outputs": [],
   "source": [
    "def missingElementBySum(array, n):\n",
    "    sum_total = n*(n+1)//2\n",
    "    array_sum =0\n",
    "    for i in array:\n",
    "        array_sum+=i\n",
    "    return sum_total-array_sum"
   ]
  },
  {
   "cell_type": "code",
   "execution_count": 47,
   "id": "annoying-boutique",
   "metadata": {},
   "outputs": [
    {
     "data": {
      "text/plain": [
       "4"
      ]
     },
     "execution_count": 47,
     "metadata": {},
     "output_type": "execute_result"
    }
   ],
   "source": [
    "missingElementBySum(A,N)"
   ]
  },
  {
   "cell_type": "markdown",
   "id": "clinical-stick",
   "metadata": {},
   "source": [
    "#### Avoiding Overflow may occured for summation"
   ]
  },
  {
   "cell_type": "code",
   "execution_count": 14,
   "id": "sought-capitol",
   "metadata": {},
   "outputs": [],
   "source": [
    "def missingElementSum(array, n):\n",
    "    s = 1\n",
    "    for i in range(0, n-1):\n",
    "        s +=-array[i]+i+2\n",
    "    return s"
   ]
  },
  {
   "cell_type": "code",
   "execution_count": 15,
   "id": "administrative-chancellor",
   "metadata": {},
   "outputs": [
    {
     "data": {
      "text/plain": [
       "4"
      ]
     },
     "execution_count": 15,
     "metadata": {},
     "output_type": "execute_result"
    }
   ],
   "source": [
    "missingElementSum(A,N)"
   ]
  },
  {
   "cell_type": "markdown",
   "id": "practical-purse",
   "metadata": {},
   "source": [
    "### XOR\n",
    "The time complexity of this problem is O(N) and space complexity is O(1) as it is taken any auxiliary space during execution"
   ]
  },
  {
   "cell_type": "code",
   "execution_count": 31,
   "id": "prospective-money",
   "metadata": {},
   "outputs": [],
   "source": [
    "def missingElementXOR(array, n):\n",
    "    a,b=0,0\n",
    "    for i in range(0,n):\n",
    "        a=a^(i+1)\n",
    "        if i+1!=n:b=b^array[i]\n",
    "    return a^b"
   ]
  },
  {
   "cell_type": "code",
   "execution_count": 32,
   "id": "seasonal-victor",
   "metadata": {},
   "outputs": [
    {
     "data": {
      "text/plain": [
       "4"
      ]
     },
     "execution_count": 32,
     "metadata": {},
     "output_type": "execute_result"
    }
   ],
   "source": [
    "missingElementXOR(A,N)"
   ]
  },
  {
   "cell_type": "code",
   "execution_count": null,
   "id": "worthy-consumption",
   "metadata": {},
   "outputs": [],
   "source": []
  }
 ],
 "metadata": {
  "kernelspec": {
   "display_name": "Python 3",
   "language": "python",
   "name": "python3"
  },
  "language_info": {
   "codemirror_mode": {
    "name": "ipython",
    "version": 3
   },
   "file_extension": ".py",
   "mimetype": "text/x-python",
   "name": "python",
   "nbconvert_exporter": "python",
   "pygments_lexer": "ipython3",
   "version": "3.8.5"
  }
 },
 "nbformat": 4,
 "nbformat_minor": 5
}
