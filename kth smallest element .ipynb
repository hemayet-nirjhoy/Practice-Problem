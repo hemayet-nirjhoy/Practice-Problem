{
 "cells": [
  {
   "cell_type": "code",
   "execution_count": 2,
   "id": "royal-muscle",
   "metadata": {},
   "outputs": [],
   "source": [
    "import numpy as np\n",
    "import pandas as pd"
   ]
  },
  {
   "cell_type": "code",
   "execution_count": 3,
   "id": "bound-magazine",
   "metadata": {},
   "outputs": [],
   "source": [
    "a =[7,10,4,3,20,15]\n",
    "k = 3"
   ]
  },
  {
   "cell_type": "code",
   "execution_count": 10,
   "id": "mathematical-terminal",
   "metadata": {},
   "outputs": [],
   "source": [
    "def kthSmallest(a,k):\n",
    "    a.sort()\n",
    "    return a[k-1]"
   ]
  },
  {
   "cell_type": "code",
   "execution_count": 11,
   "id": "ahead-receptor",
   "metadata": {},
   "outputs": [
    {
     "data": {
      "text/plain": [
       "7"
      ]
     },
     "execution_count": 11,
     "metadata": {},
     "output_type": "execute_result"
    }
   ],
   "source": [
    "kthSmallest(a,k)"
   ]
  }
 ],
 "metadata": {
  "kernelspec": {
   "display_name": "Python 3",
   "language": "python",
   "name": "python3"
  },
  "language_info": {
   "codemirror_mode": {
    "name": "ipython",
    "version": 3
   },
   "file_extension": ".py",
   "mimetype": "text/x-python",
   "name": "python",
   "nbconvert_exporter": "python",
   "pygments_lexer": "ipython3",
   "version": "3.8.5"
  }
 },
 "nbformat": 4,
 "nbformat_minor": 5
}
