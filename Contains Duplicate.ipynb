{
 "cells": [
  {
   "cell_type": "markdown",
   "id": "blind-favor",
   "metadata": {},
   "source": [
    "## 217. Contains Duplicate\n",
    "Given an integer array nums, return true if any value appears at least twice in the array, and return false if every element is distinct."
   ]
  },
  {
   "cell_type": "code",
   "execution_count": 2,
   "id": "written-minimum",
   "metadata": {},
   "outputs": [],
   "source": [
    "def containsDuplicate(self, nums) -> bool:\n",
    "        tracker = collections.defaultdict(int)\n",
    "        for i in range(len(nums)):tracker[nums[i]]+=1\n",
    "        return any(tracker[nums[i]]>1 for i in range(len(nums)))"
   ]
  },
  {
   "cell_type": "code",
   "execution_count": 4,
   "id": "sporting-sheffield",
   "metadata": {},
   "outputs": [],
   "source": [
    "def containsDuplicate(self, nums: List[int]) -> bool:\n",
    "        return len(nums)!=len(set(nums))"
   ]
  },
  {
   "cell_type": "code",
   "execution_count": null,
   "id": "purple-passenger",
   "metadata": {},
   "outputs": [],
   "source": []
  }
 ],
 "metadata": {
  "kernelspec": {
   "display_name": "Python 3",
   "language": "python",
   "name": "python3"
  },
  "language_info": {
   "codemirror_mode": {
    "name": "ipython",
    "version": 3
   },
   "file_extension": ".py",
   "mimetype": "text/x-python",
   "name": "python",
   "nbconvert_exporter": "python",
   "pygments_lexer": "ipython3",
   "version": "3.8.10"
  }
 },
 "nbformat": 4,
 "nbformat_minor": 5
}
