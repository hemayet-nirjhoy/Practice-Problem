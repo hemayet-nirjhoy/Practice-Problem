{
 "cells": [
  {
   "cell_type": "code",
   "execution_count": 1,
   "id": "undefined-public",
   "metadata": {},
   "outputs": [],
   "source": [
    "import numpy as np\n",
    "import pandas as pd\n",
    "import time\n",
    "import os"
   ]
  },
  {
   "cell_type": "markdown",
   "id": "banner-groove",
   "metadata": {},
   "source": [
    "# Longest Sum Contiguous Subarray"
   ]
  },
  {
   "cell_type": "code",
   "execution_count": 3,
   "id": "supreme-production",
   "metadata": {},
   "outputs": [],
   "source": [
    "array = [-2,-3, 4, -1, -2, 2,5,3]"
   ]
  },
  {
   "cell_type": "code",
   "execution_count": null,
   "id": "lesser-provider",
   "metadata": {},
   "outputs": [],
   "source": []
  }
 ],
 "metadata": {
  "kernelspec": {
   "display_name": "Python 3",
   "language": "python",
   "name": "python3"
  },
  "language_info": {
   "codemirror_mode": {
    "name": "ipython",
    "version": 3
   },
   "file_extension": ".py",
   "mimetype": "text/x-python",
   "name": "python",
   "nbconvert_exporter": "python",
   "pygments_lexer": "ipython3",
   "version": "3.8.5"
  }
 },
 "nbformat": 4,
 "nbformat_minor": 5
}
