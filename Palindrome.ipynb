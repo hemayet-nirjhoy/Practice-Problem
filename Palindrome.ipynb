{
 "cells": [
  {
   "cell_type": "code",
   "execution_count": 10,
   "id": "negative-wings",
   "metadata": {},
   "outputs": [],
   "source": [
    "import pandas as pd\n",
    "import numpy as np\n",
    "import time "
   ]
  },
  {
   "cell_type": "code",
   "execution_count": 11,
   "id": "strong-welding",
   "metadata": {},
   "outputs": [],
   "source": [
    "def revNumber(num, rev=0):\n",
    "    if num==0:\n",
    "        return rev\n",
    "    rev = rev*10+(num%10)\n",
    "    return revNumber(num//10,rev)\n",
    "    "
   ]
  },
  {
   "cell_type": "code",
   "execution_count": 15,
   "id": "digital-contractor",
   "metadata": {},
   "outputs": [],
   "source": [
    "def isPalindrome(num):\n",
    "    return num==revNumber(num)"
   ]
  },
  {
   "cell_type": "code",
   "execution_count": 16,
   "id": "three-cycle",
   "metadata": {},
   "outputs": [
    {
     "name": "stdout",
     "output_type": "stream",
     "text": [
      "987654321\n",
      "Time taken: 1.5840530395507812\n"
     ]
    }
   ],
   "source": [
    "st_time = time.time()\n",
    "print(revNumber(123456789))\n",
    "print(\"Time taken: {}\".format((time.time()-st_time)*1000))"
   ]
  },
  {
   "cell_type": "code",
   "execution_count": 18,
   "id": "satisfied-decade",
   "metadata": {},
   "outputs": [
    {
     "name": "stdout",
     "output_type": "stream",
     "text": [
      "True\n"
     ]
    }
   ],
   "source": [
    "print(isPalindrome(121))"
   ]
  },
  {
   "cell_type": "code",
   "execution_count": null,
   "id": "elementary-tokyo",
   "metadata": {},
   "outputs": [],
   "source": []
  }
 ],
 "metadata": {
  "kernelspec": {
   "display_name": "Python 3",
   "language": "python",
   "name": "python3"
  },
  "language_info": {
   "codemirror_mode": {
    "name": "ipython",
    "version": 3
   },
   "file_extension": ".py",
   "mimetype": "text/x-python",
   "name": "python",
   "nbconvert_exporter": "python",
   "pygments_lexer": "ipython3",
   "version": "3.8.5"
  }
 },
 "nbformat": 4,
 "nbformat_minor": 5
}
